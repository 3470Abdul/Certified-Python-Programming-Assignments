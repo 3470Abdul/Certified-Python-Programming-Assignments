{
 "cells": [
  {
   "cell_type": "markdown",
   "metadata": {},
   "source": [
    "# Name: Abdul Wahab\n",
    "# Email: abdul.wahab3470@gmail.com\n",
    "# Assignment#01, Assignment#02, Assignment#03, Assignment#04 Assignment#05 and Assignment#06"
   ]
  },
  {
   "cell_type": "markdown",
   "metadata": {},
   "source": [
    "# Assignment # 01"
   ]
  },
  {
   "cell_type": "markdown",
   "metadata": {},
   "source": [
    "1. Write a Python program to print the following string in a specific format(see the output)."
   ]
  },
  {
   "cell_type": "code",
   "execution_count": 1,
   "metadata": {},
   "outputs": [
    {
     "name": "stdout",
     "output_type": "stream",
     "text": [
      "Twinkle, twinkle, little star, \n",
      "\tHow I wonder what you are! \n",
      "\t\tUp above the world so high, \n",
      "\t\tLike a diamond in the sky. \n",
      "Twinkle, twinkle, little star, \n",
      "\tHow I wonder what you are!\n"
     ]
    }
   ],
   "source": [
    "print(\"Twinkle, twinkle, little star, \\n\\tHow I wonder what you are! \\n\\t\\tUp above the world so high, \\n\\t\\tLike a diamond in the sky. \\nTwinkle, twinkle, little star, \\n\\tHow I wonder what you are!\")"
   ]
  },
  {
   "cell_type": "markdown",
   "metadata": {},
   "source": [
    "2. Write a Python program to get the Python version you are using "
   ]
  },
  {
   "cell_type": "code",
   "execution_count": 2,
   "metadata": {},
   "outputs": [
    {
     "name": "stdout",
     "output_type": "stream",
     "text": [
      "Python version\n",
      "3.7.3 (default, Mar 27 2019, 17:13:21) [MSC v.1915 64 bit (AMD64)]\n",
      "Version info.\n",
      "sys.version_info(major=3, minor=7, micro=3, releaselevel='final', serial=0)\n"
     ]
    }
   ],
   "source": [
    "import sys\n",
    "print(\"Python version\")\n",
    "print (sys.version)\n",
    "print(\"Version info.\")\n",
    "print (sys.version_info)"
   ]
  },
  {
   "cell_type": "markdown",
   "metadata": {},
   "source": [
    "3. Write a Python program to display the current date and time. "
   ]
  },
  {
   "cell_type": "code",
   "execution_count": 3,
   "metadata": {},
   "outputs": [
    {
     "name": "stdout",
     "output_type": "stream",
     "text": [
      "Current date and time : \n",
      "2020-01-04 17:16:51\n"
     ]
    }
   ],
   "source": [
    "import datetime\n",
    "now = datetime.datetime.now()\n",
    "print (\"Current date and time : \")\n",
    "print (now.strftime(\"%Y-%m-%d %H:%M:%S\"))"
   ]
  },
  {
   "cell_type": "markdown",
   "metadata": {},
   "source": [
    "4. Write a Python program which accepts the radius of a circle from the user and compute the area. "
   ]
  },
  {
   "cell_type": "code",
   "execution_count": 4,
   "metadata": {},
   "outputs": [
    {
     "name": "stdout",
     "output_type": "stream",
     "text": [
      "Input the radius of the circle : 5\n",
      "The area of the circle with radius 5.0 is: 78.53981633974483\n"
     ]
    }
   ],
   "source": [
    "from math import pi\n",
    "r = float(input (\"Input the radius of the circle : \"))\n",
    "print (\"The area of the circle with radius \" + str(r) + \" is: \" + str(pi * r**2))"
   ]
  },
  {
   "cell_type": "markdown",
   "metadata": {},
   "source": [
    "5. Write a Python program which accepts the user's first and last name and print them in reverse order with a space between them. "
   ]
  },
  {
   "cell_type": "code",
   "execution_count": 5,
   "metadata": {},
   "outputs": [
    {
     "name": "stdout",
     "output_type": "stream",
     "text": [
      "Input your First Name : Abdul\n",
      "Input your Last Name : Wahab\n",
      "Hello  Wahab Abdul\n"
     ]
    }
   ],
   "source": [
    "fname = input(\"Input your First Name : \")\n",
    "lname = input(\"Input your Last Name : \")\n",
    "print (\"Hello  \" + lname + \" \" + fname)"
   ]
  },
  {
   "cell_type": "markdown",
   "metadata": {},
   "source": [
    "6. Write a python program which takes two inputs from user and print them addition"
   ]
  },
  {
   "cell_type": "code",
   "execution_count": 6,
   "metadata": {},
   "outputs": [
    {
     "name": "stdout",
     "output_type": "stream",
     "text": [
      "Enter first Number: 30\n",
      "Enter second Number: 20\n",
      "50\n"
     ]
    }
   ],
   "source": [
    "num1 = int(input(\"Enter first Number: \"))\n",
    "num2 = int(input(\"Enter second Number: \"))\n",
    "add = num1 + num2\n",
    "print(add)"
   ]
  },
  {
   "cell_type": "markdown",
   "metadata": {},
   "source": [
    "# Assignment # 02"
   ]
  },
  {
   "cell_type": "markdown",
   "metadata": {},
   "source": [
    "1. Write a program which takes 5 inputs from user for different subject’s marks, total it and generate mark sheet using grades ?\n"
   ]
  },
  {
   "cell_type": "code",
   "execution_count": 7,
   "metadata": {},
   "outputs": [
    {
     "name": "stdout",
     "output_type": "stream",
     "text": [
      "Enter marks of the first subject: 78\n",
      "Enter marks of the second subject: 67\n",
      "Enter marks of the third subject: 89\n",
      "Enter marks of the fourth subject: 98\n",
      "Enter marks of the fifth subject: 78\n",
      "Grade: A-One\n"
     ]
    }
   ],
   "source": [
    "sub1=int(input(\"Enter marks of the first subject: \"))\n",
    "sub2=int(input(\"Enter marks of the second subject: \"))\n",
    "sub3=int(input(\"Enter marks of the third subject: \"))\n",
    "sub4=int(input(\"Enter marks of the fourth subject: \"))\n",
    "sub5=int(input(\"Enter marks of the fifth subject: \"))\n",
    "avg=(sub1+sub2+sub3+sub4+sub4)/5\n",
    "if(avg>=90 and avg<=100):\n",
    "    print(\"Grade: A-One+\")\n",
    "elif(avg>=80 and avg<90):\n",
    "    print(\"Grade: A-One\")\n",
    "elif(avg>=70 and avg<80):\n",
    "    print(\"Grade: A\")\n",
    "elif(avg>=60 and avg<70):\n",
    "    print(\"Grade: B\")\n",
    "elif(avg>=50 and avg<60):\n",
    "    print(\"Grade: C\")\n",
    "elif(avg>=40 and avg<50):\n",
    "    print(\"Grade: D\")\n",
    "elif(avg>=33 and avg<40):\n",
    "    print(\"Grade: E\")\n",
    "elif(avg>=0 and avg<33):\n",
    "    print(\"Grade: Fail\")\n",
    "else:\n",
    "    print(\"Wronge Entery\")"
   ]
  },
  {
   "cell_type": "markdown",
   "metadata": {},
   "source": [
    "2. Write a program which take input from user and identify that the given number is even or odd?\n"
   ]
  },
  {
   "cell_type": "code",
   "execution_count": 8,
   "metadata": {},
   "outputs": [
    {
     "name": "stdout",
     "output_type": "stream",
     "text": [
      "Enter a number: 5\n",
      "This is an odd number.\n"
     ]
    }
   ],
   "source": [
    "num = int(input(\"Enter a number: \"))\n",
    "mod = num % 2\n",
    "if mod > 0:\n",
    "    print(\"This is an odd number.\")\n",
    "else:\n",
    "    print(\"This is an even number.\")"
   ]
  },
  {
   "cell_type": "markdown",
   "metadata": {},
   "source": [
    "3. Write a program which print the length of the list?"
   ]
  },
  {
   "cell_type": "code",
   "execution_count": 9,
   "metadata": {},
   "outputs": [
    {
     "name": "stdout",
     "output_type": "stream",
     "text": [
      "Number of items in the list =  8\n"
     ]
    }
   ],
   "source": [
    "len_list = [1, 5, 9, 'x','b','z', 20, 25]\n",
    "print (\"Number of items in the list = \", len(len_list))"
   ]
  },
  {
   "cell_type": "markdown",
   "metadata": {},
   "source": [
    "4. Write a Python program to sum all the numeric items in a list?"
   ]
  },
  {
   "cell_type": "code",
   "execution_count": 10,
   "metadata": {},
   "outputs": [
    {
     "name": "stdout",
     "output_type": "stream",
     "text": [
      "Sum of all elements in given list:  201\n"
     ]
    }
   ],
   "source": [
    "list1 = [11, 5, 17, 18, 34,56,60]  \n",
    "total = sum(list1) \n",
    "print(\"Sum of all elements in given list: \", total) "
   ]
  },
  {
   "cell_type": "markdown",
   "metadata": {},
   "source": [
    "5. Write a Python program to get the largest number from a numeric list."
   ]
  },
  {
   "cell_type": "code",
   "execution_count": 11,
   "metadata": {},
   "outputs": [
    {
     "name": "stdout",
     "output_type": "stream",
     "text": [
      "Largest element in the list is : 107\n"
     ]
    }
   ],
   "source": [
    "lst = [5, 7, 18, 3, 45, 89, 97, 107, 45]\n",
    "print(\"Largest element in the list is :\", max(lst))"
   ]
  },
  {
   "cell_type": "markdown",
   "metadata": {},
   "source": [
    "6. Take a list, say for example this one: a = [1, 1, 2, 3, 5, 8, 13, 21, 34, 55, 89] and write a program that prints out all the elements of the list that are less than 5."
   ]
  },
  {
   "cell_type": "code",
   "execution_count": 12,
   "metadata": {},
   "outputs": [
    {
     "name": "stdout",
     "output_type": "stream",
     "text": [
      "[1, 1, 2, 3]\n"
     ]
    }
   ],
   "source": [
    "a = [1, 1, 2, 3, 5, 8, 13, 21, 34, 55, 89]\n",
    "num = 5\n",
    "new_list = []\n",
    "for i in a:\n",
    "    if i < num:\n",
    "        new_list.append(i)\n",
    "print (new_list)"
   ]
  },
  {
   "cell_type": "markdown",
   "metadata": {},
   "source": [
    "# Assignment # 03"
   ]
  },
  {
   "cell_type": "markdown",
   "metadata": {},
   "source": [
    "1. Make a calculator using Python with addition , subtraction , multiplication , division and power."
   ]
  },
  {
   "cell_type": "code",
   "execution_count": 13,
   "metadata": {},
   "outputs": [
    {
     "name": "stdout",
     "output_type": "stream",
     "text": [
      "Select operation.\n",
      "1.Add\n",
      "2.Subtract\n",
      "3.Multiply\n",
      "4.Divide\n",
      "5.Power\n",
      "Enter choice(1/2/3/4/5): 1\n",
      "Enter first number: 40\n",
      "Enter second number: 50\n",
      "40.0 + 50.0 = 90.0\n"
     ]
    }
   ],
   "source": [
    "def add(x, y):\n",
    "   return x + y\n",
    "def subtract(x, y):\n",
    "   return x - y\n",
    "def multiply(x, y):\n",
    "   return x * y\n",
    "def divide(x, y):\n",
    "   return x / y\n",
    "def power(x, y):\n",
    "   return x ** y\n",
    "print(\"Select operation.\")\n",
    "print(\"1.Add\")\n",
    "print(\"2.Subtract\")\n",
    "print(\"3.Multiply\")\n",
    "print(\"4.Divide\")\n",
    "print(\"5.Power\") \n",
    "choice = input(\"Enter choice(1/2/3/4/5): \")\n",
    "num1 = float(input(\"Enter first number: \"))\n",
    "num2 = float(input(\"Enter second number: \"))\n",
    "if choice == '1':\n",
    "   print(num1,\"+\",num2,\"=\", add(num1,num2))\n",
    "elif choice == '2':\n",
    "   print(num1,\"-\",num2,\"=\", subtract(num1,num2))\n",
    "elif choice == '3':\n",
    "   print(num1,\"*\",num2,\"=\", multiply(num1,num2))\n",
    "elif choice == '4':\n",
    "   print(num1,\"/\",num2,\"=\", divide(num1,num2))\n",
    "elif choice == '5':\n",
    "   print(num1,\"**\",num2,\"=\", power(num1,num2))\n",
    "else:\n",
    "   print(\"Invalid input\")"
   ]
  },
  {
   "cell_type": "markdown",
   "metadata": {},
   "source": [
    "2. Write a program to check if there is any numeric value in list using for loop"
   ]
  },
  {
   "cell_type": "code",
   "execution_count": 14,
   "metadata": {},
   "outputs": [
    {
     "name": "stdout",
     "output_type": "stream",
     "text": [
      "Numeric Value 4 Exists\n"
     ]
    }
   ],
   "source": [
    "test_list = [ 1, 6, 3, 5, 3, 4, 'ali', 'a', '3', 6 ]\n",
    "for i in test_list: \n",
    "    if(i == 4) : \n",
    "        print (\"Numeric Value 4 Exists\") "
   ]
  },
  {
   "cell_type": "markdown",
   "metadata": {},
   "source": [
    "3. Write a Python script to add a key to a dictionary"
   ]
  },
  {
   "cell_type": "code",
   "execution_count": 15,
   "metadata": {},
   "outputs": [
    {
     "name": "stdout",
     "output_type": "stream",
     "text": [
      "{'First name': 'Abdul', 'Last Name': 'Wahab', 'Age': '25'}\n"
     ]
    }
   ],
   "source": [
    "dict = {'First name':'Abdul', 'Last Name':'Wahab'} \n",
    "dict.__setitem__('Age', '25') \n",
    "print(dict) "
   ]
  },
  {
   "cell_type": "markdown",
   "metadata": {},
   "source": [
    "4. Write a Python program to sum all the numeric items in a dictionary\n"
   ]
  },
  {
   "cell_type": "code",
   "execution_count": 16,
   "metadata": {},
   "outputs": [
    {
     "name": "stdout",
     "output_type": "stream",
     "text": [
      "324\n"
     ]
    }
   ],
   "source": [
    "my_dict = {'num1':100, 'num2':-23, 'num3':247}\n",
    "print(sum(my_dict.values()))"
   ]
  },
  {
   "cell_type": "markdown",
   "metadata": {},
   "source": [
    "5. Write a program to identify duplicate values from list"
   ]
  },
  {
   "cell_type": "code",
   "execution_count": 17,
   "metadata": {},
   "outputs": [
    {
     "name": "stdout",
     "output_type": "stream",
     "text": [
      "Dublicate values list: [15, 20, 30, 40, 50]\n"
     ]
    }
   ],
   "source": [
    "my_list = [20,30,20,30,40,50,15,11,20,40,50,15,6,7]\n",
    "my_list.sort()\n",
    "new_list = sorted(set(my_list))\n",
    "dup_list =[]\n",
    "for i in range(len(new_list)):\n",
    "        if (my_list.count(new_list[i]) > 1 ):\n",
    "            dup_list.append(new_list[i])\n",
    "print(\"Dublicate values list:\",dup_list) "
   ]
  },
  {
   "cell_type": "markdown",
   "metadata": {},
   "source": [
    "\n",
    "6. Write a Python script to check if a given key already exists in a dictionary "
   ]
  },
  {
   "cell_type": "code",
   "execution_count": 18,
   "metadata": {},
   "outputs": [
    {
     "ename": "NameError",
     "evalue": "name 'checkKey' is not defined",
     "output_type": "error",
     "traceback": [
      "\u001b[1;31m---------------------------------------------------------------------------\u001b[0m",
      "\u001b[1;31mNameError\u001b[0m                                 Traceback (most recent call last)",
      "\u001b[1;32m<ipython-input-18-83fc5ce2e80a>\u001b[0m in \u001b[0;36m<module>\u001b[1;34m\u001b[0m\n\u001b[0;32m      1\u001b[0m \u001b[0mdict\u001b[0m \u001b[1;33m=\u001b[0m \u001b[1;33m{\u001b[0m\u001b[1;34m'a'\u001b[0m\u001b[1;33m:\u001b[0m \u001b[1;36m100\u001b[0m\u001b[1;33m,\u001b[0m \u001b[1;34m'b'\u001b[0m\u001b[1;33m:\u001b[0m\u001b[1;36m200\u001b[0m\u001b[1;33m,\u001b[0m \u001b[1;34m'c'\u001b[0m\u001b[1;33m:\u001b[0m\u001b[1;36m300\u001b[0m\u001b[1;33m}\u001b[0m\u001b[1;33m\u001b[0m\u001b[1;33m\u001b[0m\u001b[0m\n\u001b[0;32m      2\u001b[0m \u001b[0mkey\u001b[0m \u001b[1;33m=\u001b[0m \u001b[1;34m'b'\u001b[0m\u001b[1;33m\u001b[0m\u001b[1;33m\u001b[0m\u001b[0m\n\u001b[1;32m----> 3\u001b[1;33m \u001b[0mcheckKey\u001b[0m\u001b[1;33m(\u001b[0m\u001b[0mdict\u001b[0m\u001b[1;33m,\u001b[0m \u001b[0mkey\u001b[0m\u001b[1;33m)\u001b[0m\u001b[1;33m\u001b[0m\u001b[1;33m\u001b[0m\u001b[0m\n\u001b[0m\u001b[0;32m      4\u001b[0m \u001b[0mkey\u001b[0m \u001b[1;33m=\u001b[0m \u001b[1;34m'w'\u001b[0m\u001b[1;33m\u001b[0m\u001b[1;33m\u001b[0m\u001b[0m\n\u001b[0;32m      5\u001b[0m \u001b[0mcheckKey\u001b[0m\u001b[1;33m(\u001b[0m\u001b[0mdict\u001b[0m\u001b[1;33m,\u001b[0m \u001b[0mkey\u001b[0m\u001b[1;33m)\u001b[0m\u001b[1;33m\u001b[0m\u001b[1;33m\u001b[0m\u001b[0m\n",
      "\u001b[1;31mNameError\u001b[0m: name 'checkKey' is not defined"
     ]
    }
   ],
   "source": [
    "dict = {'a': 100, 'b':200, 'c':300} \n",
    "key = 'b'\n",
    "checkKey(dict, key) \n",
    "key = 'w'\n",
    "checkKey(dict, key) "
   ]
  },
  {
   "cell_type": "markdown",
   "metadata": {},
   "source": [
    "# Assignment # 04"
   ]
  },
  {
   "cell_type": "code",
   "execution_count": 19,
   "metadata": {},
   "outputs": [
    {
     "name": "stdout",
     "output_type": "stream",
     "text": [
      "{'first_name': 'Abdul', 'last_nmae': 'Wahab', 'age': 25, 'city': 'Karachi'}\n",
      "{'first_name': 'Abdul', 'last_nmae': 'Wahab', 'age': 25, 'city': 'Karachi', 'qualification': 'Intermediate'}\n",
      "{'first_name': 'Abdul', 'last_nmae': 'Wahab', 'age': 25, 'city': 'Karachi', 'qualification': 'High level'}\n",
      "{'first_name': 'Abdul', 'last_nmae': 'Wahab', 'age': 25, 'city': 'Karachi'}\n"
     ]
    }
   ],
   "source": [
    "information ={\n",
    "    \"first_name\":\"Abdul\",\n",
    "    \"last_nmae\":\"Wahab\",\n",
    "    \"age\":25,\n",
    "    \"city\":\"Karachi\"\n",
    "}\n",
    "print(information)\n",
    "information.update({\"qualification\":\"Intermediate\"})\n",
    "print(information)\n",
    "information.update({\"qualification\":\"High level\"})\n",
    "print(information)\n",
    "del information[\"qualification\"]\n",
    "print(information)"
   ]
  },
  {
   "cell_type": "code",
   "execution_count": 20,
   "metadata": {},
   "outputs": [
    {
     "name": "stdout",
     "output_type": "stream",
     "text": [
      "{'Country_name': 'Pakistan', 'Popullations': '4.5 cror', 'Fact': \"Karachi is vital to Pakistan's economy, contributing 42 per cent of GDP\"}\n",
      "{'Country_name': 'Pakistan', 'Popullations': '3.7 cror', 'Fact': 'City of Gardens'}\n",
      "{'Country_name': 'Pakistan', 'Popullations': '3.7 cror', 'Fact': 'It is largely known for its gigantic historical fort'}\n",
      "dict_items([('Country_name', 'Pakistan'), ('Popullations', '4.5 cror'), ('Fact', \"Karachi is vital to Pakistan's economy, contributing 42 per cent of GDP\")])\n"
     ]
    }
   ],
   "source": [
    "cities ={\n",
    "    \"Karachi\":{\n",
    "        \"Country_name\":\"Pakistan\",\n",
    "        \"Popullations\":'4.5 cror',\n",
    "        \"Fact\":\"Karachi is vital to Pakistan's economy, contributing 42 per cent of GDP\" },\n",
    "    \"Lahore\":{\n",
    "        \"Country_name\":\"Pakistan\",\n",
    "        \"Popullations\":'3.7 cror',\n",
    "        \"Fact\":\"City of Gardens\"\n",
    "    },\n",
    "    \"Umerkot\":{\n",
    "        \"Country_name\":\"Pakistan\",\n",
    "        \"Popullations\":'3.7 cror',\n",
    "        \"Fact\":\"It is largely known for its gigantic historical fort\"\n",
    "    }\n",
    "}\n",
    "print(cities[\"Karachi\"])\n",
    "print(cities[\"Lahore\"])\n",
    "print(cities[\"Umerkot\"])\n",
    "print(cities['Karachi'].items())"
   ]
  },
  {
   "cell_type": "code",
   "execution_count": 21,
   "metadata": {},
   "outputs": [
    {
     "name": "stdout",
     "output_type": "stream",
     "text": [
      "If you embrace this method of learning, you’ll get the hang of Python in less time than you might expect\n"
     ]
    }
   ],
   "source": [
    "def my_favorite(A_smarter_way_to_learn_python):\n",
    "    A_smarter_way_to_learn_python =\"If you embrace this method of learning, you’ll get the hang of Python in less time than you might expect\"\n",
    "    print(A_smarter_way_to_learn_python)\n",
    "my_favorite('A_smarter_way_to_learn_python')"
   ]
  },
  {
   "cell_type": "code",
   "execution_count": 34,
   "metadata": {},
   "outputs": [
    {
     "name": "stdout",
     "output_type": "stream",
     "text": [
      "Enter your age: 25\n",
      "your ticket is $15.\n"
     ]
    }
   ],
   "source": [
    "age =int(input(\"Enter your age: \"))\n",
    "while True:\n",
    "    if age < 3:\n",
    "        print(\"You ticket is free\")\n",
    "    elif age <13:\n",
    "        print(\"Your ticket is $10.\")\n",
    "    else:\n",
    "        print(\"your ticket is $15.\")\n",
    "    break"
   ]
  },
  {
   "cell_type": "code",
   "execution_count": 23,
   "metadata": {},
   "outputs": [
    {
     "name": "stdout",
     "output_type": "stream",
     "text": [
      "Enter the value43\n",
      "Enter number less then 30.\n",
      "Number is high\n",
      "Enter the value45\n",
      "Enter number less then 30.\n",
      "Number is high\n",
      "Enter the value6\n",
      "Your number is low\n",
      "You lose... the number was 7\n"
     ]
    }
   ],
   "source": [
    "import random\n",
    "n1 =random.randint(1,30)\n",
    "guess_count =1\n",
    "while guess_count < 4:\n",
    "    number =int(input(\"Enter the value\"))\n",
    "    guess_count +=1\n",
    "    if number > 30:\n",
    "        print(\"Enter number less then 30.\")\n",
    "    if number < n1:\n",
    "        print(\"Your number is low\")\n",
    "    if  number > n1:\n",
    "        print(\"Number is high\")\n",
    "    if number== n1:\n",
    "        print(\"you won\")\n",
    "        break\n",
    "if number == n1:\n",
    "    print(f\"You have tried {guess_count} times\")\n",
    "elif number!= n1:\n",
    "    print(f\"You lose... the number was {n1}\")"
   ]
  },
  {
   "cell_type": "markdown",
   "metadata": {},
   "source": [
    "# Assignment # 05"
   ]
  },
  {
   "cell_type": "markdown",
   "metadata": {},
   "source": [
    "# Question:1\n",
    "Write a Python function to calculate the factorial of a number (a non-negative\n",
    "integer). The function accepts the number as an argument."
   ]
  },
  {
   "cell_type": "code",
   "execution_count": 24,
   "metadata": {},
   "outputs": [
    {
     "name": "stdout",
     "output_type": "stream",
     "text": [
      "Enter a factorial number : 7\n",
      "factorial of 7 is: 5040\n"
     ]
    }
   ],
   "source": [
    "def factorial(num):\n",
    "    if num==1:\n",
    "        return num\n",
    "    else:\n",
    "        return num * factorial(num-1)\n",
    "num =int(input(\"Enter a factorial number : \"))\n",
    "if num < 0:\n",
    "    print(\"Factorial connot be found\")\n",
    "elif num ==0:\n",
    "    print(\"Factorial of 0 is 1\")\n",
    "else:\n",
    "    print(\"factorial of\", num , \"is:\", factorial(num))"
   ]
  },
  {
   "cell_type": "markdown",
   "metadata": {},
   "source": [
    "# Question:2 \n",
    "Write a Python function that accepts a string and calculate the number of upper case letters and lower case letters."
   ]
  },
  {
   "cell_type": "code",
   "execution_count": 25,
   "metadata": {},
   "outputs": [
    {
     "name": "stdout",
     "output_type": "stream",
     "text": [
      "Enter the value: WaHab\n",
      "Entered string is: WaHab\n",
      "Upper case of this string is: 2\n",
      "Lower case of this string is: 3\n"
     ]
    }
   ],
   "source": [
    "def word_num(word):\n",
    "    count1=0\n",
    "    count2=0\n",
    "    for i in word:\n",
    "        if i.isupper():\n",
    "            count1+=1\n",
    "        elif i.islower():\n",
    "            count2+=1\n",
    "        else:\n",
    "            pass\n",
    "    print(\"Entered string is: \"+ word)\n",
    "    print(f\"Upper case of this string is: {count1}\")\n",
    "    print(f\"Lower case of this string is: {count2}\")\n",
    "word=input(\"Enter the value: \")\n",
    "word_num(word)"
   ]
  },
  {
   "cell_type": "markdown",
   "metadata": {},
   "source": [
    "# Question:3 \n",
    "Write a Python function to print the even numbers from a given list. "
   ]
  },
  {
   "cell_type": "code",
   "execution_count": 26,
   "metadata": {},
   "outputs": [
    {
     "name": "stdout",
     "output_type": "stream",
     "text": [
      "2\n",
      "12\n",
      "14\n",
      "98\n",
      "100\n"
     ]
    }
   ],
   "source": [
    "list1=[2,12,13,14,7,98,100]\n",
    "def given_num(num):\n",
    "    for num in list1:\n",
    "        if num % 2 == 0:\n",
    "            print(num)\n",
    "given_num(list1)"
   ]
  },
  {
   "cell_type": "markdown",
   "metadata": {},
   "source": [
    "# Question:4 \n",
    "Write a Python function that checks whether a passed string is palindrome or not. Note: A palindrome is a word, phrase, or sequence that reads the same backward as forward, e.g., madam "
   ]
  },
  {
   "cell_type": "code",
   "execution_count": 27,
   "metadata": {},
   "outputs": [
    {
     "name": "stdout",
     "output_type": "stream",
     "text": [
      "Enter word : samas\n",
      "Yes it is pelindrome\n"
     ]
    }
   ],
   "source": [
    "def string_test(s):\n",
    "    count1=0\n",
    "    count2= len(s)-1\n",
    "    while count2 >=count1:\n",
    "        if not s[count1]==s[count2]:\n",
    "            return \"This is not pelindroeme\"\n",
    "        count1 +=1\n",
    "        count2-=1\n",
    "        #else:\n",
    "    return \"Yes it is pelindrome\"\n",
    "s=input(\"Enter word : \")\n",
    "print(string_test(s))"
   ]
  },
  {
   "cell_type": "markdown",
   "metadata": {},
   "source": [
    "# Question:5 \n",
    "Write a Python function that takes a number as a parameter and check the number is prime or not. "
   ]
  },
  {
   "cell_type": "code",
   "execution_count": 28,
   "metadata": {},
   "outputs": [
    {
     "name": "stdout",
     "output_type": "stream",
     "text": [
      "Enter the number: 7\n",
      "7 is prime\n"
     ]
    }
   ],
   "source": [
    "num =int(input(\"Enter the number: \"))\n",
    "if num>1:\n",
    "    for i in range(2,num): \n",
    "        if (num %i)==0:\n",
    "            print(num, \"is not prime\")\n",
    "            break\n",
    "        elif (num%i)!=0:\n",
    "            print(num,\"is prime\")\n",
    "            break\n",
    "        else:\n",
    "            print(num, \"is not prime\")"
   ]
  },
  {
   "cell_type": "markdown",
   "metadata": {},
   "source": [
    "# Question: 6 \n",
    "Suppose a customer is shopping in a market and you need to print all the items which user bought from market. Write a function which accepts the multiple arguments of user shopping list and print all the items which user bought from market. "
   ]
  },
  {
   "cell_type": "code",
   "execution_count": 29,
   "metadata": {},
   "outputs": [
    {
     "name": "stdout",
     "output_type": "stream",
     "text": [
      "Press q for quit\n",
      "Enter items that you boughts: tomato\n",
      "Enter items that you boughts: potato\n",
      "Enter items that you boughts: onion\n",
      "Enter items that you boughts: q\n",
      "['tomato', 'potato', 'onion', 'q']\n"
     ]
    }
   ],
   "source": [
    "items=[]\n",
    "x=print(\"Press q for quit\")\n",
    "def shoping_list(itemsb):\n",
    "    while True:\n",
    "        \n",
    "        item=input(\"Enter items that you boughts: \")\n",
    "        items.append(item)\n",
    "        if item==\"q\":\n",
    "            break\n",
    "shoping_list(items)\n",
    "print(items)\n",
    "        "
   ]
  },
  {
   "cell_type": "markdown",
   "metadata": {},
   "source": [
    "# Assignment # 06"
   ]
  },
  {
   "cell_type": "markdown",
   "metadata": {},
   "source": [
    "# Question #01: Define Object Oriented Programming Language?"
   ]
  },
  {
   "cell_type": "markdown",
   "metadata": {},
   "source": [
    "# Object Oriented Programming Language\n",
    "Python is a multi-paradigm programming language. Meaning, it supports different programming approach.\n",
    "\n",
    "One of the popular approach to solve a programming problem is by creating objects. This is known as Object-Oriented Programming (OOP).\n",
    "\n",
    "An object has two characteristics:\n",
    "\n",
    "attributes\n",
    "behavior\n",
    "Let's take an example:\n",
    "\n",
    "Parrot is an object,\n",
    "\n",
    "name, age, color are attributes\n",
    "singing, dancing are behavior\n",
    "The concept of OOP in Python focuses on creating reusable code. This concept is also known as DRY (Don't Repeat Yourself).\n",
    "\n",
    "In Python, the concept of OOP follows some basic principles:\n",
    "1.Abstraction\n",
    "2.Inheritence\n",
    "3.Encapsulation\n",
    "4.Polymorphism"
   ]
  },
  {
   "cell_type": "markdown",
   "metadata": {},
   "source": [
    "# Question # 02 List down the Benefits of OOP?"
   ]
  },
  {
   "cell_type": "markdown",
   "metadata": {},
   "source": [
    "Modularity for easier troubleshooting. \n",
    "Something has gone wrong, and you have no idea where to look. ...\n",
    "Reuse of code through inheritance. ...\n",
    "Flexibility through polymorphism. ...\n",
    "Effective problem solving."
   ]
  },
  {
   "cell_type": "markdown",
   "metadata": {},
   "source": [
    "# Question # 03 Differentiate between function and method?"
   ]
  },
  {
   "cell_type": "markdown",
   "metadata": {},
   "source": [
    "# Python Method\n",
    "\n",
    "Method is called by its name, but it is associated to an object (dependent).\n",
    "A method is implicitly passed the object on which it is invoked.\n",
    "It may or may not return any data.\n",
    "A method can operate on the data (instance variables) that is contained by the corresponding class\n",
    "\n",
    "# Python Functions\n",
    "\n",
    "Function is block of code that is also called by its name. (independent)\n",
    "The function can have different parameters or may not have any at all. If any data (parameters) are passed, they are passed explicitly.\n",
    "It may or may not return any data.\n",
    "Function does not deal with Class and its instance concept."
   ]
  },
  {
   "cell_type": "markdown",
   "metadata": {},
   "source": [
    "# Question #04 Define the following terms:\n",
    "1. Class\n",
    "2. Object\n",
    "3. Attribute\n",
    "4. Behavior"
   ]
  },
  {
   "cell_type": "markdown",
   "metadata": {},
   "source": [
    "# Class\n",
    "A user-defined prototype for an object that defines a set of attributes that characterize any object of the class. The attributes are data members (class variables and instance variables) and methods, accessed via dot notation. OR in simple words Class is a blue print of an object.\n",
    "\n",
    "# Object\n",
    "An object is a specimen of a class. Software objects are often used to model real-world objects you find in everyday life.\n",
    "\n",
    "# Attribute\n",
    "As an object-oriented language, Python provides two scopes for attributes: class attributes and instance attributes.\n",
    "\n",
    "While the instance attribute in Python has exactly the same characteristics and definition as the other object-oriented languages, the class attribute is always mistakingly considered to be the exact equivalent of the static attribute in Java or C++. To be accurate, class attributes in Python and static attributes in Java or C++ have a lot in common, however, they have behavioral differences that I will highlight in this article.\n",
    "Class Attribute vs. Instance Attribute\n",
    "Let's start with the basics:\n",
    "\n",
    "An instance attribute is a Python variable belonging to one, and only one, object. This variable is only accessible in the scope of this object and it is defined inside the constructor function, __init__(self,..) of the class.\n",
    "\n",
    "A class attribute is a Python variable that belongs to a class rather than a particular object. It is shared between all the objects of this class and it is defined outside the constructor function, __init__(self,...), of the class.\n",
    "\n",
    "# Behavior\n",
    "Objects in Python are generally classified according to their behaviors and the features that they implement. For example, all of the sequence types such as strings, lists, and tuples are grouped together merely because they all happen to support a common set of sequence operations such as s[n], len(s), etc. All basic interpreter operations are implemented through special object methods. The names of special methods are always preceded and followed by double underscores (__). These methods are automatically triggered by the interpreter as a program executes. For example, the operation x + y is mapped to an internal method, x.__add__(y), and an indexing operation, x[k], is mapped to x.__getitem__(k). The behavior of each data type depends entirely on the set of special methods that it implements.\n",
    "\n",
    "User-defined classes can define new objects that behave like the built-in types simply by supplying an appropriate subset of the special methods described in this section. In addition, built-in types such as lists and dictionaries can be specialized (via inheritance) by redefining some of the special methods.\n",
    "\n",
    "The next few sections describe the special methods associated with different categories of interpreter features."
   ]
  },
  {
   "cell_type": "markdown",
   "metadata": {},
   "source": [
    "# Question #05 Write a code in python in which create a class named it Car which have 5 attributes such like (model, color and name etc.) and 3 methods. And create 5 object instance from that class."
   ]
  },
  {
   "cell_type": "code",
   "execution_count": 30,
   "metadata": {},
   "outputs": [],
   "source": [
    "class Car():\n",
    "    \n",
    "    counter =0\n",
    "    def __init__(self, carname, model, company, color, license):\n",
    "        self.carname =carname\n",
    "        self.model =model\n",
    "        self.company =company\n",
    "        self.color =color\n",
    "        self.license =license\n",
    "        Car.counter +=1\n",
    "        print(Car.counter)\n",
    "\n",
    "    def speed(self, speed=\"250KM/H\"):\n",
    "        pritn(\"Speed of the Car is \", speed)\n",
    "\n",
    "    def avgspeed(self, avg=\"150KM/H\"):\n",
    "        print(\"The average speed of the car is\", avg)\n",
    "        \n",
    "    def disel(self, based=\"Light\"):\n",
    "        print(\"This car is based on \", based)"
   ]
  },
  {
   "cell_type": "code",
   "execution_count": 31,
   "metadata": {},
   "outputs": [
    {
     "name": "stdout",
     "output_type": "stream",
     "text": [
      "1\n",
      "2\n",
      "3\n",
      "4\n",
      "5\n"
     ]
    }
   ],
   "source": [
    "obj1 =Car(\"Cultus\", \"2017\", \"Honda\", \"Blue\", \"Yes\")\n",
    "obj2 =Car(\"Mehran\", \"2016\", \"China\", \"Red\", \"Yes\")\n",
    "obj3 =Car(\"Civic\", \"2018\", \"Toyotta\", \"Grey\", \"Yes\")\n",
    "obj4=Car(\"Pajaro\", \"2019\", \"Honda\", \"Black\", \"Yes\")\n",
    "obj5=Car(\"Ferrari\", \"2019\", \"Ferrrari\", \"Red\", \"Yes\")"
   ]
  },
  {
   "cell_type": "code",
   "execution_count": 32,
   "metadata": {},
   "outputs": [
    {
     "data": {
      "text/plain": [
       "'2019'"
      ]
     },
     "execution_count": 32,
     "metadata": {},
     "output_type": "execute_result"
    }
   ],
   "source": [
    "obj5.model"
   ]
  },
  {
   "cell_type": "code",
   "execution_count": 33,
   "metadata": {},
   "outputs": [
    {
     "data": {
      "text/plain": [
       "'Red'"
      ]
     },
     "execution_count": 33,
     "metadata": {},
     "output_type": "execute_result"
    }
   ],
   "source": [
    "obj5.color"
   ]
  }
 ],
 "metadata": {
  "kernelspec": {
   "display_name": "Python 3",
   "language": "python",
   "name": "python3"
  },
  "language_info": {
   "codemirror_mode": {
    "name": "ipython",
    "version": 3
   },
   "file_extension": ".py",
   "mimetype": "text/x-python",
   "name": "python",
   "nbconvert_exporter": "python",
   "pygments_lexer": "ipython3",
   "version": "3.7.3"
  }
 },
 "nbformat": 4,
 "nbformat_minor": 2
}
